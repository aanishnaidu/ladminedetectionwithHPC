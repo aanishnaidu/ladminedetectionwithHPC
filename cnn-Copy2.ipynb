{
 "cells": [
  {
   "cell_type": "code",
   "execution_count": 1,
   "metadata": {},
   "outputs": [
    {
     "name": "stdout",
     "output_type": "stream",
     "text": [
      "Physical devices cannot be modified after being initialized\n",
      "GPU selected: 0\n",
      "Physical devices cannot be modified after being initialized\n"
     ]
    }
   ],
   "source": [
    "import os\n",
    "import tensorflow as tf\n",
    "from tensorflow.keras import datasets, layers, models\n",
    "import keras\n",
    "from keras.models import Sequential\n",
    "from keras.utils import to_categorical\n",
    "from keras.layers import Dense, Conv2D, MaxPooling2D, Dropout, Flatten\n",
    "from keras.models import load_model\n",
    "\n",
    "\n",
    "tf.device('/gpu:1')\n",
    "gpus = tf.config.experimental.list_physical_devices('GPU')\n",
    "if gpus:\n",
    "    try:\n",
    "        for gpu in gpus:\n",
    "            tf.config.experimental.set_memory_growth(gpu, True)\n",
    "        logical_gpus = tf.config.experimental.list_logical_devices('GPU')\n",
    "        print(len(gpus), \"Physical GPUs,\", len(logical_gpus), \"Logical GPUs\")\n",
    "    except RuntimeError as e:\n",
    "        print(e)\n",
    "os.environ['TF_FORCE_GPU_ALLOW_GROWTH'] = \"true\"\n",
    "\n",
    "import tensorflow as tf\n",
    "config = tf.compat.v1.ConfigProto()\n",
    "config.gpu_options.allow_growth = True\n",
    "config.gpu_options.per_process_gpu_memory_fraction = 1\n",
    "session = tf.compat.v1.Session(config=config)\n",
    "\n",
    "import numpy as np\n",
    "from sklearn.utils import shuffle\n",
    "from sklearn.model_selection import train_test_split\n",
    "\n",
    "import PreProcessing\n",
    "import net\n",
    "import PatchExtractor\n",
    "\n",
    "from keras.callbacks import ModelCheckpoint, EarlyStopping, ReduceLROnPlateau"
   ]
  },
  {
   "cell_type": "code",
   "execution_count": 2,
   "metadata": {},
   "outputs": [],
   "source": [
    "in_path = 'giuriati_2/20170621_deg0_HHVV.npy'\n",
    "out_path = 'cnn_article'\n",
    "architecture = 'Auto3D2'\n",
    "ny = 3 ##3\n",
    "data_augmentation = True\n",
    "preprocessing = 'normalize'\n",
    "patch_size = 128  ##64\n",
    "patch_stride = 8 ##4\n",
    "n_bsc = 2 #5 "
   ]
  },
  {
   "cell_type": "code",
   "execution_count": 3,
   "metadata": {},
   "outputs": [],
   "source": [
    "def parse_pp(string):\n",
    "    return getattr(PreProcessing, string)\n",
    "\n",
    "def parse_net(string):\n",
    "    return getattr(net, string)"
   ]
  },
  {
   "cell_type": "code",
   "execution_count": 4,
   "metadata": {},
   "outputs": [],
   "source": [
    "if not os.path.exists(out_path):\n",
    "    os.makedirs(out_path)\n",
    "\n",
    "field, campaign = in_path.split('/')\n",
    "campaign, extension = campaign.split('.')"
   ]
  },
  {
   "cell_type": "code",
   "execution_count": 5,
   "metadata": {},
   "outputs": [],
   "source": [
    "dataset = np.load('./datasets/'+str(in_path),allow_pickle=True).item()\n",
    "\n",
    "train_bsc_idx = np.where(np.asarray(dataset['ground_truth']) == 0)[0][:n_bsc]\n",
    "trainset = dataset['data'][train_bsc_idx]\n",
    "trainset = np.moveaxis(trainset, np.argmin(trainset.shape), -1)\n",
    "del dataset\n",
    "\n",
    "\n",
    "if patch_size is not None:\n",
    "    patch_size = (patch_size, patch_size)\n",
    "else:\n",
    "    patch_size = trainset.shape[1:]\n",
    "\n",
    "patch_size = patch_size + (ny,)\n",
    "patch_stride = (patch_stride, patch_stride, 1)"
   ]
  },
  {
   "cell_type": "code",
   "execution_count": 6,
   "metadata": {},
   "outputs": [],
   "source": [
    "from sklearn.metrics import roc_curve, roc_auc_score\n",
    "from tqdm import tqdm\n",
    "training = './cnn_article/giuriati_2_20170621_deg0_HHVV_Auto3D2_patch64_stride4_bsc5_ny3'\n",
    "net_weights = training + '.h5'\n"
   ]
  },
  {
   "cell_type": "code",
   "execution_count": 7,
   "metadata": {},
   "outputs": [],
   "source": [
    "train_path = in_path\n",
    "dataset = np.load('./datasets/' + str(in_path),allow_pickle=True).item()\n",
    "\n",
    "data = dataset['data']\n",
    "\n",
    "pe = PatchExtractor.PatchExtractor(patch_size, stride=patch_stride)\n",
    "\n",
    "gt = np.asarray(dataset['ground_truth'])\n",
    "del dataset\n",
    "\n",
    "test_idx = np.arange(data.shape[0])\n",
    "\n",
    "if in_path == train_path:\n",
    "    train_idx = np.where(gt == 0)[0][:n_bsc]\n",
    "    test_idx = np.delete(test_idx, train_idx)\n",
    "testset = data[test_idx]\n",
    "gt = gt[test_idx]\n",
    "del data\n",
    "testset = np.moveaxis(testset, np.argmin(testset.shape), -1)\n",
    "ytest=gt\n",
    "xt=testset"
   ]
  },
  {
   "cell_type": "code",
   "execution_count": 8,
   "metadata": {},
   "outputs": [],
   "source": [
    "autoencoder, encoder = parse_net(architecture)(patch_size)\n",
    "autoencoder.load_weights(os.path.join(net_weights))\n",
    "\n",
    "out_name = field+'_'+campaign+'_'+architecture+'_patch'+str(patch_size[0])+'_stride'+str(patch_stride[0])+'_bsc'+str(n_bsc)+'_ny'+str(ny)"
   ]
  },
  {
   "cell_type": "code",
   "execution_count": 9,
   "metadata": {},
   "outputs": [],
   "source": [
    "model = load_model('model.h5')"
   ]
  },
  {
   "cell_type": "code",
   "execution_count": 10,
   "metadata": {},
   "outputs": [
    {
     "name": "stdout",
     "output_type": "stream",
     "text": [
      "ok\n",
      "ok\n",
      "ok\n",
      "ok\n",
      "ok\n",
      "ok\n",
      "ok\n",
      "ok\n",
      "ok\n",
      "ok\n",
      "ok\n",
      "ok\n",
      "ok\n",
      "ok\n",
      "ok\n",
      "ok\n",
      "ok\n",
      "ok\n",
      "okok\n",
      "\n"
     ]
    }
   ],
   "source": [
    "#######################################################\n",
    "#######################################################\n",
    "#######################################################\n",
    "restuv=[]\n",
    "cnnuv=[]\n",
    "threads=[]\n",
    "import threading\n",
    "import time \n",
    "\n",
    "start_time = time.time()\n",
    "    \n",
    "def funloo(y,gh):\n",
    "    testset=xt[:,:,y*3:(y*3)+3]       ###3\n",
    "    yte=ytest[y*3:(y*3)+3]\n",
    "    xtest12=testset.reshape(3,170,440,1)\n",
    "    \n",
    "    patches = pe.extract(testset)\n",
    "    cnnuv.append(list(model.predict(xtest12)))\n",
    "    cnnuv.append(list(yte))\n",
    "    del xtest12\n",
    "    del testset\n",
    "    patchesIdx = patches.shape\n",
    "    patches_hat = autoencoder.predict(patches.reshape((-1,) + patch_size))\n",
    "    mseFeat = (encoder.predict(patches.reshape((-1,) + patch_size)) - encoder.predict(patches_hat))**2\n",
    "    del patches\n",
    "    uv10001=patches_hat.shape\n",
    "    del patches_hat\n",
    "    mseFeat_patches = np.zeros(uv10001) + np.mean(mseFeat, axis=(1,2,3)).reshape((-1,1,1,1))\n",
    "\n",
    "    del mseFeat\n",
    "    mseFeat_vol = pe.reconstruct(mseFeat_patches.reshape(patchesIdx))\n",
    "    del mseFeat_patches\n",
    "    mse_mask_max = np.max(mseFeat_vol, axis=(0, 1))\n",
    "    #print(mse_mask_max)\n",
    "    restuv.append(list(mse_mask_max))\n",
    "    restuv.append(yte)\n",
    "    print(\"ok\")\n",
    "    \n",
    "    \n",
    "\n",
    "for i in range(20):\n",
    "    try:\n",
    "        th = threading.Thread(target=funloo,args=(i,i))\n",
    "        th.start()\n",
    "        threads.append(th)\n",
    "    except:\n",
    "        print(\"error\")\n",
    "        pass\n",
    "for th in threads:\n",
    "    th.join()\n",
    "    \n",
    "end_time = time.time()\n",
    "timetaken=(end_time-start_time)"
   ]
  },
  {
   "cell_type": "code",
   "execution_count": 32,
   "metadata": {},
   "outputs": [],
   "source": [
    "restuv=np.array(restuv)\n",
    "cnnuv=np.array(cnnuv)"
   ]
  },
  {
   "cell_type": "code",
   "execution_count": 33,
   "metadata": {},
   "outputs": [
    {
     "data": {
      "text/plain": [
       "((40,), (40,))"
      ]
     },
     "execution_count": 33,
     "metadata": {},
     "output_type": "execute_result"
    }
   ],
   "source": [
    "restuv.shape,cnnuv.shape"
   ]
  },
  {
   "cell_type": "code",
   "execution_count": 17,
   "metadata": {},
   "outputs": [],
   "source": [
    "cnnuv=cnnuv[:,1]\n",
    "ydt2=[]\n",
    "yt2=[]\n",
    "for i in range(cnnuv.shape[0]):\n",
    "    if(i%2==0):\n",
    "        ydt2.append(cnnuv[i])\n",
    "    else:\n",
    "        yt2.append(cnnuv[i])\n",
    "restuv=restuv[:,1]\n",
    "ydt1=[]\n",
    "yt1=[]\n",
    "for i in range(restuv.shape[0]):\n",
    "    if(i%2==0):\n",
    "        ydt1.append(restuv[i])\n",
    "    else:\n",
    "        yt1.append(restuv[i])"
   ]
  },
  {
   "cell_type": "code",
   "execution_count": 21,
   "metadata": {},
   "outputs": [
    {
     "data": {
      "text/plain": [
       "60.5344500541687"
      ]
     },
     "execution_count": 21,
     "metadata": {},
     "output_type": "execute_result"
    }
   ],
   "source": [
    "timetaken"
   ]
  },
  {
   "cell_type": "code",
   "execution_count": 30,
   "metadata": {},
   "outputs": [
    {
     "name": "stdout",
     "output_type": "stream",
     "text": [
      "best AUC = 0.86\n"
     ]
    }
   ],
   "source": [
    "fpr_max, tpr_max, thresholds_max = roc_curve(yt1, ydt1)\n",
    "roc_auc_max = roc_auc_score(yt1, ydt1)\n",
    "print('best AUC = %0.2f' % roc_auc_max)"
   ]
  },
  {
   "cell_type": "code",
   "execution_count": null,
   "metadata": {},
   "outputs": [],
   "source": []
  },
  {
   "cell_type": "code",
   "execution_count": null,
   "metadata": {},
   "outputs": [],
   "source": []
  },
  {
   "cell_type": "code",
   "execution_count": null,
   "metadata": {},
   "outputs": [],
   "source": []
  },
  {
   "cell_type": "code",
   "execution_count": null,
   "metadata": {},
   "outputs": [],
   "source": []
  },
  {
   "cell_type": "code",
   "execution_count": null,
   "metadata": {},
   "outputs": [],
   "source": []
  },
  {
   "cell_type": "code",
   "execution_count": null,
   "metadata": {},
   "outputs": [],
   "source": []
  },
  {
   "cell_type": "code",
   "execution_count": null,
   "metadata": {},
   "outputs": [],
   "source": []
  },
  {
   "cell_type": "code",
   "execution_count": null,
   "metadata": {},
   "outputs": [],
   "source": []
  },
  {
   "cell_type": "code",
   "execution_count": null,
   "metadata": {},
   "outputs": [],
   "source": []
  },
  {
   "cell_type": "code",
   "execution_count": null,
   "metadata": {},
   "outputs": [],
   "source": []
  }
 ],
 "metadata": {
  "kernelspec": {
   "display_name": "Python 3",
   "language": "python",
   "name": "python3"
  },
  "language_info": {
   "codemirror_mode": {
    "name": "ipython",
    "version": 3
   },
   "file_extension": ".py",
   "mimetype": "text/x-python",
   "name": "python",
   "nbconvert_exporter": "python",
   "pygments_lexer": "ipython3",
   "version": "3.8.3"
  }
 },
 "nbformat": 4,
 "nbformat_minor": 4
}
