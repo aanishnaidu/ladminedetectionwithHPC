{
 "cells": [
  {
   "cell_type": "code",
   "execution_count": 1,
   "metadata": {},
   "outputs": [
    {
     "name": "stdout",
     "output_type": "stream",
     "text": [
      "Physical devices cannot be modified after being initialized\n"
     ]
    },
    {
     "ename": "RuntimeError",
     "evalue": "Could not find an available GPU after 1 attempts with 900 seconds interval.",
     "output_type": "error",
     "traceback": [
      "\u001b[1;31m---------------------------------------------------------------------------\u001b[0m",
      "\u001b[1;31mRuntimeError\u001b[0m                              Traceback (most recent call last)",
      "\u001b[1;32m<ipython-input-1-f2050db57db8>\u001b[0m in \u001b[0;36m<module>\u001b[1;34m\u001b[0m\n\u001b[0;32m     25\u001b[0m \u001b[1;33m\u001b[0m\u001b[0m\n\u001b[0;32m     26\u001b[0m \u001b[1;32mimport\u001b[0m \u001b[0mPreProcessing\u001b[0m\u001b[1;33m\u001b[0m\u001b[1;33m\u001b[0m\u001b[0m\n\u001b[1;32m---> 27\u001b[1;33m \u001b[1;32mimport\u001b[0m \u001b[0mnet\u001b[0m\u001b[1;33m\u001b[0m\u001b[1;33m\u001b[0m\u001b[0m\n\u001b[0m\u001b[0;32m     28\u001b[0m \u001b[1;32mimport\u001b[0m \u001b[0mPatchExtractor\u001b[0m\u001b[1;33m\u001b[0m\u001b[1;33m\u001b[0m\u001b[0m\n\u001b[0;32m     29\u001b[0m \u001b[1;33m\u001b[0m\u001b[0m\n",
      "\u001b[1;32m~\\Desktop\\hpc project\\landmine_detection_autoencoder-master\\net.py\u001b[0m in \u001b[0;36m<module>\u001b[1;34m\u001b[0m\n\u001b[0;32m      9\u001b[0m \u001b[1;31m# use the GPU with the lowest memory usage\u001b[0m\u001b[1;33m\u001b[0m\u001b[1;33m\u001b[0m\u001b[1;33m\u001b[0m\u001b[0m\n\u001b[0;32m     10\u001b[0m \u001b[1;32mimport\u001b[0m \u001b[0mGPUtil\u001b[0m\u001b[1;33m\u001b[0m\u001b[1;33m\u001b[0m\u001b[0m\n\u001b[1;32m---> 11\u001b[1;33m \u001b[0mDEVICE_ID\u001b[0m \u001b[1;33m=\u001b[0m \u001b[0mstr\u001b[0m\u001b[1;33m(\u001b[0m\u001b[0mGPUtil\u001b[0m\u001b[1;33m.\u001b[0m\u001b[0mgetFirstAvailable\u001b[0m\u001b[1;33m(\u001b[0m\u001b[0morder\u001b[0m\u001b[1;33m=\u001b[0m\u001b[1;34m'memory'\u001b[0m\u001b[1;33m)\u001b[0m\u001b[1;33m[\u001b[0m\u001b[1;36m0\u001b[0m\u001b[1;33m]\u001b[0m\u001b[1;33m)\u001b[0m\u001b[1;33m\u001b[0m\u001b[1;33m\u001b[0m\u001b[0m\n\u001b[0m\u001b[0;32m     12\u001b[0m \u001b[0mos\u001b[0m\u001b[1;33m.\u001b[0m\u001b[0menviron\u001b[0m\u001b[1;33m[\u001b[0m\u001b[1;34m\"CUDA_VISIBLE_DEVICES\"\u001b[0m\u001b[1;33m]\u001b[0m \u001b[1;33m=\u001b[0m \u001b[0mDEVICE_ID\u001b[0m\u001b[1;33m\u001b[0m\u001b[1;33m\u001b[0m\u001b[0m\n\u001b[0;32m     13\u001b[0m \u001b[0mprint\u001b[0m\u001b[1;33m(\u001b[0m\u001b[1;34m'GPU selected:'\u001b[0m\u001b[1;33m,\u001b[0m \u001b[0mDEVICE_ID\u001b[0m\u001b[1;33m)\u001b[0m\u001b[1;33m\u001b[0m\u001b[1;33m\u001b[0m\u001b[0m\n",
      "\u001b[1;32m~\\anaconda3\\lib\\site-packages\\GPUtil\\GPUtil.py\u001b[0m in \u001b[0;36mgetFirstAvailable\u001b[1;34m(order, maxLoad, maxMemory, attempts, interval, verbose, includeNan, excludeID, excludeUUID)\u001b[0m\n\u001b[0;32m    201\u001b[0m     \u001b[1;31m# Check if an GPU was found, or if the attempts simply ran out. Throw error, if no GPU was found\u001b[0m\u001b[1;33m\u001b[0m\u001b[1;33m\u001b[0m\u001b[1;33m\u001b[0m\u001b[0m\n\u001b[0;32m    202\u001b[0m     \u001b[1;32mif\u001b[0m \u001b[1;33m(\u001b[0m\u001b[1;32mnot\u001b[0m\u001b[1;33m(\u001b[0m\u001b[0mavailable\u001b[0m\u001b[1;33m)\u001b[0m\u001b[1;33m)\u001b[0m\u001b[1;33m:\u001b[0m\u001b[1;33m\u001b[0m\u001b[1;33m\u001b[0m\u001b[0m\n\u001b[1;32m--> 203\u001b[1;33m         \u001b[1;32mraise\u001b[0m \u001b[0mRuntimeError\u001b[0m\u001b[1;33m(\u001b[0m\u001b[1;34m'Could not find an available GPU after '\u001b[0m \u001b[1;33m+\u001b[0m \u001b[0mstr\u001b[0m\u001b[1;33m(\u001b[0m\u001b[0mattempts\u001b[0m\u001b[1;33m)\u001b[0m \u001b[1;33m+\u001b[0m \u001b[1;34m' attempts with '\u001b[0m \u001b[1;33m+\u001b[0m \u001b[0mstr\u001b[0m\u001b[1;33m(\u001b[0m\u001b[0minterval\u001b[0m\u001b[1;33m)\u001b[0m \u001b[1;33m+\u001b[0m \u001b[1;34m' seconds interval.'\u001b[0m\u001b[1;33m)\u001b[0m\u001b[1;33m\u001b[0m\u001b[1;33m\u001b[0m\u001b[0m\n\u001b[0m\u001b[0;32m    204\u001b[0m \u001b[1;33m\u001b[0m\u001b[0m\n\u001b[0;32m    205\u001b[0m     \u001b[1;31m# Return found GPU\u001b[0m\u001b[1;33m\u001b[0m\u001b[1;33m\u001b[0m\u001b[1;33m\u001b[0m\u001b[0m\n",
      "\u001b[1;31mRuntimeError\u001b[0m: Could not find an available GPU after 1 attempts with 900 seconds interval."
     ]
    }
   ],
   "source": [
    "\n",
    "import os\n",
    "\n",
    "import tensorflow as tf\n",
    "tf.device('/gpu:1')\n",
    "gpus = tf.config.experimental.list_physical_devices('GPU')\n",
    "if gpus:\n",
    "    try:\n",
    "        for gpu in gpus:\n",
    "            tf.config.experimental.set_memory_growth(gpu, True)\n",
    "        logical_gpus = tf.config.experimental.list_logical_devices('GPU')\n",
    "        print(len(gpus), \"Physical GPUs,\", len(logical_gpus), \"Logical GPUs\")\n",
    "    except RuntimeError as e:\n",
    "        print(e)\n",
    "os.environ['TF_FORCE_GPU_ALLOW_GROWTH'] = \"true\"\n",
    "\n",
    "import tensorflow as tf\n",
    "config = tf.compat.v1.ConfigProto()\n",
    "config.gpu_options.allow_growth = True\n",
    "config.gpu_options.per_process_gpu_memory_fraction = 1\n",
    "session = tf.compat.v1.Session(config=config)\n",
    "\n",
    "import numpy as np\n",
    "from sklearn.utils import shuffle\n",
    "from sklearn.model_selection import train_test_split\n",
    "\n",
    "import PreProcessing\n",
    "import net\n",
    "import PatchExtractor\n",
    "\n",
    "from keras.callbacks import ModelCheckpoint, EarlyStopping, ReduceLROnPlateau"
   ]
  },
  {
   "cell_type": "code",
   "execution_count": null,
   "metadata": {},
   "outputs": [],
   "source": []
  },
  {
   "cell_type": "markdown",
   "metadata": {},
   "source": [
    "# Variables"
   ]
  },
  {
   "cell_type": "code",
   "execution_count": null,
   "metadata": {},
   "outputs": [],
   "source": [
    "in_path = 'giuriati_2/20170621_deg0_HHVV.npy'\n",
    "out_path = 'cnn_article'\n",
    "architecture = 'Auto3D2'\n",
    "ny = 3 # number of adjacent B-scans to be considered\n",
    "data_augmentation = True\n",
    "preprocessing = 'normalize'\n",
    "patch_size = 64  ##64\n",
    "patch_stride = 4 ##4\n",
    "n_bsc = 5 #5 number of B_scans for training"
   ]
  },
  {
   "cell_type": "code",
   "execution_count": null,
   "metadata": {},
   "outputs": [],
   "source": [
    "def parse_pp(string):\n",
    "    return getattr(PreProcessing, string)\n",
    "\n",
    "def parse_net(string):\n",
    "    return getattr(net, string)"
   ]
  },
  {
   "cell_type": "code",
   "execution_count": null,
   "metadata": {},
   "outputs": [],
   "source": [
    "if not os.path.exists(out_path):\n",
    "    os.makedirs(out_path)\n",
    "\n",
    "field, campaign = in_path.split('/')\n",
    "campaign, extension = campaign.split('.')"
   ]
  },
  {
   "cell_type": "markdown",
   "metadata": {},
   "source": [
    "# Load Datasets"
   ]
  },
  {
   "cell_type": "code",
   "execution_count": null,
   "metadata": {},
   "outputs": [],
   "source": [
    "dataset = np.load('./datasets/'+str(in_path),allow_pickle=True).item()\n",
    "\n",
    "train_bsc_idx = np.where(np.asarray(dataset['ground_truth']) == 0)[0][:n_bsc]\n",
    "trainset = dataset['data'][train_bsc_idx]\n",
    "trainset = np.moveaxis(trainset, np.argmin(trainset.shape), -1)\n",
    "del dataset"
   ]
  },
  {
   "cell_type": "markdown",
   "metadata": {},
   "source": [
    "### block extraction"
   ]
  },
  {
   "cell_type": "code",
   "execution_count": null,
   "metadata": {},
   "outputs": [],
   "source": [
    "if patch_size is not None:\n",
    "    patch_size = (patch_size, patch_size)\n",
    "else:\n",
    "    patch_size = trainset.shape[1:]\n",
    "\n",
    "patch_size = patch_size + (ny,)\n",
    "patch_stride = (patch_stride, patch_stride, 1)"
   ]
  },
  {
   "cell_type": "code",
   "execution_count": null,
   "metadata": {},
   "outputs": [],
   "source": [
    "from sklearn.metrics import roc_curve, roc_auc_score\n",
    "from tqdm import tqdm"
   ]
  },
  {
   "cell_type": "code",
   "execution_count": 2,
   "metadata": {},
   "outputs": [],
   "source": [
    "training = './cnn_article/giuriati_2_20170621_deg0_HHVV_Auto3D2_patch64_stride4_bsc5_ny3'\n",
    "net_weights = training + '.h5'\n"
   ]
  },
  {
   "cell_type": "markdown",
   "metadata": {},
   "source": [
    "### Load dataset"
   ]
  },
  {
   "cell_type": "code",
   "execution_count": 3,
   "metadata": {},
   "outputs": [
    {
     "ename": "NameError",
     "evalue": "name 'in_path' is not defined",
     "output_type": "error",
     "traceback": [
      "\u001b[1;31m---------------------------------------------------------------------------\u001b[0m",
      "\u001b[1;31mNameError\u001b[0m                                 Traceback (most recent call last)",
      "\u001b[1;32m<ipython-input-3-70d8d5deb302>\u001b[0m in \u001b[0;36m<module>\u001b[1;34m\u001b[0m\n\u001b[0;32m      1\u001b[0m \u001b[1;31m# in this case, the dataset for training in the same for testing\u001b[0m\u001b[1;33m\u001b[0m\u001b[1;33m\u001b[0m\u001b[1;33m\u001b[0m\u001b[0m\n\u001b[1;32m----> 2\u001b[1;33m \u001b[0mtrain_path\u001b[0m \u001b[1;33m=\u001b[0m \u001b[0min_path\u001b[0m\u001b[1;33m\u001b[0m\u001b[1;33m\u001b[0m\u001b[0m\n\u001b[0m\u001b[0;32m      3\u001b[0m \u001b[0mdataset\u001b[0m \u001b[1;33m=\u001b[0m \u001b[0mnp\u001b[0m\u001b[1;33m.\u001b[0m\u001b[0mload\u001b[0m\u001b[1;33m(\u001b[0m\u001b[1;34m'./datasets/'\u001b[0m \u001b[1;33m+\u001b[0m \u001b[0mstr\u001b[0m\u001b[1;33m(\u001b[0m\u001b[0min_path\u001b[0m\u001b[1;33m)\u001b[0m\u001b[1;33m,\u001b[0m\u001b[0mallow_pickle\u001b[0m\u001b[1;33m=\u001b[0m\u001b[1;32mTrue\u001b[0m\u001b[1;33m)\u001b[0m\u001b[1;33m.\u001b[0m\u001b[0mitem\u001b[0m\u001b[1;33m(\u001b[0m\u001b[1;33m)\u001b[0m\u001b[1;33m\u001b[0m\u001b[1;33m\u001b[0m\u001b[0m\n\u001b[0;32m      4\u001b[0m \u001b[1;33m\u001b[0m\u001b[0m\n\u001b[0;32m      5\u001b[0m \u001b[1;31m# preprocessing\u001b[0m\u001b[1;33m\u001b[0m\u001b[1;33m\u001b[0m\u001b[1;33m\u001b[0m\u001b[0m\n",
      "\u001b[1;31mNameError\u001b[0m: name 'in_path' is not defined"
     ]
    }
   ],
   "source": [
    "# in this case, the dataset for training in the same for testing\n",
    "train_path = in_path\n",
    "dataset = np.load('./datasets/' + str(in_path),allow_pickle=True).item()\n",
    "\n",
    "# preprocessing\n",
    "data = dataset['data']\n",
    "\n",
    "# patch extractor\n",
    "pe = PatchExtractor.PatchExtractor(patch_size, stride=patch_stride)\n",
    "\n",
    "# background bscans for training\n",
    "gt = np.asarray(dataset['ground_truth'])\n",
    "del dataset\n",
    "\n",
    "test_idx = np.arange(data.shape[0])\n",
    "# check whether the test dataset is the same of the training\n",
    "if in_path == train_path:\n",
    "    train_idx = np.where(gt == 0)[0][:n_bsc]\n",
    "    test_idx = np.delete(test_idx, train_idx)\n",
    "testset = data[test_idx]\n",
    "gt = gt[test_idx]\n",
    "del data\n",
    "testset = np.moveaxis(testset, np.argmin(testset.shape), -1)\n"
   ]
  },
  {
   "cell_type": "code",
   "execution_count": 4,
   "metadata": {},
   "outputs": [
    {
     "ename": "NameError",
     "evalue": "name 'testset' is not defined",
     "output_type": "error",
     "traceback": [
      "\u001b[1;31m---------------------------------------------------------------------------\u001b[0m",
      "\u001b[1;31mNameError\u001b[0m                                 Traceback (most recent call last)",
      "\u001b[1;32m<ipython-input-4-ed7dada1cdc0>\u001b[0m in \u001b[0;36m<module>\u001b[1;34m\u001b[0m\n\u001b[1;32m----> 1\u001b[1;33m \u001b[0mtestset\u001b[0m\u001b[1;33m.\u001b[0m\u001b[0mshape\u001b[0m\u001b[1;33m\u001b[0m\u001b[1;33m\u001b[0m\u001b[0m\n\u001b[0m\u001b[0;32m      2\u001b[0m \u001b[0mgt\u001b[0m\u001b[1;33m.\u001b[0m\u001b[0mshape\u001b[0m\u001b[1;33m\u001b[0m\u001b[1;33m\u001b[0m\u001b[0m\n\u001b[0;32m      3\u001b[0m \u001b[0mgt\u001b[0m\u001b[1;33m=\u001b[0m\u001b[0mgt\u001b[0m\u001b[1;33m[\u001b[0m\u001b[1;33m:\u001b[0m\u001b[1;36m7\u001b[0m\u001b[1;33m]\u001b[0m\u001b[1;33m\u001b[0m\u001b[1;33m\u001b[0m\u001b[0m\n\u001b[0;32m      4\u001b[0m \u001b[0mtestset\u001b[0m\u001b[1;33m=\u001b[0m\u001b[0mtestset\u001b[0m\u001b[1;33m[\u001b[0m\u001b[1;33m:\u001b[0m\u001b[1;33m,\u001b[0m\u001b[1;33m:\u001b[0m\u001b[1;33m,\u001b[0m\u001b[1;33m:\u001b[0m\u001b[1;36m7\u001b[0m\u001b[1;33m]\u001b[0m\u001b[1;33m\u001b[0m\u001b[1;33m\u001b[0m\u001b[0m\n",
      "\u001b[1;31mNameError\u001b[0m: name 'testset' is not defined"
     ]
    }
   ],
   "source": [
    "testset.shape\n",
    "gt.shape\n",
    "gt=gt[:7]\n",
    "testset=testset[:,:,:7]"
   ]
  },
  {
   "cell_type": "code",
   "execution_count": 11,
   "metadata": {},
   "outputs": [
    {
     "ename": "NameError",
     "evalue": "name 'data' is not defined",
     "output_type": "error",
     "traceback": [
      "\u001b[1;31m---------------------------------------------------------------------------\u001b[0m",
      "\u001b[1;31mNameError\u001b[0m                                 Traceback (most recent call last)",
      "\u001b[1;32m<ipython-input-11-2b65d39160df>\u001b[0m in \u001b[0;36m<module>\u001b[1;34m\u001b[0m\n\u001b[1;32m----> 1\u001b[1;33m \u001b[0mdata\u001b[0m\u001b[1;33m.\u001b[0m\u001b[0mshape\u001b[0m\u001b[1;33m[\u001b[0m\u001b[1;36m0\u001b[0m\u001b[1;33m]\u001b[0m\u001b[1;33m\u001b[0m\u001b[1;33m\u001b[0m\u001b[0m\n\u001b[0m",
      "\u001b[1;31mNameError\u001b[0m: name 'data' is not defined"
     ]
    }
   ],
   "source": [
    "data.shape[0]"
   ]
  },
  {
   "cell_type": "markdown",
   "metadata": {},
   "source": [
    "### Load architecture"
   ]
  },
  {
   "cell_type": "code",
   "execution_count": 12,
   "metadata": {},
   "outputs": [],
   "source": [
    "autoencoder, encoder = parse_net(architecture)(patch_size)\n",
    "autoencoder.load_weights(os.path.join(net_weights))\n",
    "\n",
    "out_name = field+'_'+campaign+'_'+architecture+'_patch'+str(patch_size[0])+'_stride'+str(patch_stride[0])+'_bsc'+str(n_bsc)+'_ny'+str(ny)"
   ]
  },
  {
   "cell_type": "code",
   "execution_count": 13,
   "metadata": {},
   "outputs": [
    {
     "name": "stdout",
     "output_type": "stream",
     "text": [
      "Model: \"model_1\"\n",
      "_________________________________________________________________\n",
      "Layer (type)                 Output Shape              Param #   \n",
      "=================================================================\n",
      "g_in_0 (InputLayer)          [(None, 64, 64, 3)]       0         \n",
      "_________________________________________________________________\n",
      "g_conv_0 (Conv2D)            (None, 64, 64, 16)        1744      \n",
      "_________________________________________________________________\n",
      "g_conv_1 (Conv2D)            (None, 32, 32, 16)        6416      \n",
      "_________________________________________________________________\n",
      "g_conv_2 (Conv2D)            (None, 16, 16, 16)        4112      \n",
      "_________________________________________________________________\n",
      "g_conv_3 (Conv2D)            (None, 8, 8, 16)          2320      \n",
      "_________________________________________________________________\n",
      "conv2d (Conv2D)              (None, 4, 4, 16)          1040      \n",
      "_________________________________________________________________\n",
      "encoder (Conv2D)             (None, 2, 2, 16)          272       \n",
      "=================================================================\n",
      "Total params: 15,904\n",
      "Trainable params: 15,904\n",
      "Non-trainable params: 0\n",
      "_________________________________________________________________\n"
     ]
    }
   ],
   "source": [
    "encoder.summary()"
   ]
  },
  {
   "cell_type": "code",
   "execution_count": 14,
   "metadata": {},
   "outputs": [
    {
     "name": "stdout",
     "output_type": "stream",
     "text": [
      "Model: \"model\"\n",
      "_________________________________________________________________\n",
      "Layer (type)                 Output Shape              Param #   \n",
      "=================================================================\n",
      "g_in_0 (InputLayer)          [(None, 64, 64, 3)]       0         \n",
      "_________________________________________________________________\n",
      "g_conv_0 (Conv2D)            (None, 64, 64, 16)        1744      \n",
      "_________________________________________________________________\n",
      "g_conv_1 (Conv2D)            (None, 32, 32, 16)        6416      \n",
      "_________________________________________________________________\n",
      "g_conv_2 (Conv2D)            (None, 16, 16, 16)        4112      \n",
      "_________________________________________________________________\n",
      "g_conv_3 (Conv2D)            (None, 8, 8, 16)          2320      \n",
      "_________________________________________________________________\n",
      "conv2d (Conv2D)              (None, 4, 4, 16)          1040      \n",
      "_________________________________________________________________\n",
      "encoder (Conv2D)             (None, 2, 2, 16)          272       \n",
      "_________________________________________________________________\n",
      "conv2d_transpose (Conv2DTran (None, 4, 4, 16)          1040      \n",
      "_________________________________________________________________\n",
      "g_deconv_0 (Conv2DTranspose) (None, 8, 8, 16)          1040      \n",
      "_________________________________________________________________\n",
      "g_deconv_1 (Conv2DTranspose) (None, 16, 16, 16)        2320      \n",
      "_________________________________________________________________\n",
      "g_deconv_2 (Conv2DTranspose) (None, 32, 32, 16)        4112      \n",
      "_________________________________________________________________\n",
      "g_deconv_3 (Conv2DTranspose) (None, 64, 64, 16)        6416      \n",
      "_________________________________________________________________\n",
      "g_deconv_4 (Conv2DTranspose) (None, 64, 64, 3)         1731      \n",
      "=================================================================\n",
      "Total params: 32,563\n",
      "Trainable params: 32,563\n",
      "Non-trainable params: 0\n",
      "_________________________________________________________________\n"
     ]
    }
   ],
   "source": [
    "autoencoder.summary()"
   ]
  },
  {
   "cell_type": "markdown",
   "metadata": {},
   "source": [
    "### Test loop"
   ]
  },
  {
   "cell_type": "code",
   "execution_count": 15,
   "metadata": {},
   "outputs": [
    {
     "name": "stdout",
     "output_type": "stream",
     "text": [
      "(27, 95, 5, 64, 64, 3)\n"
     ]
    }
   ],
   "source": [
    "\n",
    "patches = pe.extract(testset)\n",
    "del testset\n",
    "print(patches.shape)"
   ]
  },
  {
   "cell_type": "code",
   "execution_count": 16,
   "metadata": {},
   "outputs": [
    {
     "name": "stdout",
     "output_type": "stream",
     "text": [
      "check00\n",
      "check01\n",
      "check 1\n",
      "[[[[0.00043441 0.00043441 0.00043441]\n",
      "   [0.00043441 0.00043441 0.00043441]\n",
      "   [0.00043441 0.00043441 0.00043441]\n",
      "   ...\n",
      "   [0.00043441 0.00043441 0.00043441]\n",
      "   [0.00043441 0.00043441 0.00043441]\n",
      "   [0.00043441 0.00043441 0.00043441]]\n",
      "\n",
      "  [[0.00043441 0.00043441 0.00043441]\n",
      "   [0.00043441 0.00043441 0.00043441]\n",
      "   [0.00043441 0.00043441 0.00043441]\n",
      "   ...\n",
      "   [0.00043441 0.00043441 0.00043441]\n",
      "   [0.00043441 0.00043441 0.00043441]\n",
      "   [0.00043441 0.00043441 0.00043441]]\n",
      "\n",
      "  [[0.00043441 0.00043441 0.00043441]\n",
      "   [0.00043441 0.00043441 0.00043441]\n",
      "   [0.00043441 0.00043441 0.00043441]\n",
      "   ...\n",
      "   [0.00043441 0.00043441 0.00043441]\n",
      "   [0.00043441 0.00043441 0.00043441]\n",
      "   [0.00043441 0.00043441 0.00043441]]\n",
      "\n",
      "  ...\n",
      "\n",
      "  [[0.00043441 0.00043441 0.00043441]\n",
      "   [0.00043441 0.00043441 0.00043441]\n",
      "   [0.00043441 0.00043441 0.00043441]\n",
      "   ...\n",
      "   [0.00043441 0.00043441 0.00043441]\n",
      "   [0.00043441 0.00043441 0.00043441]\n",
      "   [0.00043441 0.00043441 0.00043441]]\n",
      "\n",
      "  [[0.00043441 0.00043441 0.00043441]\n",
      "   [0.00043441 0.00043441 0.00043441]\n",
      "   [0.00043441 0.00043441 0.00043441]\n",
      "   ...\n",
      "   [0.00043441 0.00043441 0.00043441]\n",
      "   [0.00043441 0.00043441 0.00043441]\n",
      "   [0.00043441 0.00043441 0.00043441]]\n",
      "\n",
      "  [[0.00043441 0.00043441 0.00043441]\n",
      "   [0.00043441 0.00043441 0.00043441]\n",
      "   [0.00043441 0.00043441 0.00043441]\n",
      "   ...\n",
      "   [0.00043441 0.00043441 0.00043441]\n",
      "   [0.00043441 0.00043441 0.00043441]\n",
      "   [0.00043441 0.00043441 0.00043441]]]\n",
      "\n",
      "\n",
      " [[[0.00040761 0.00040761 0.00040761]\n",
      "   [0.00040761 0.00040761 0.00040761]\n",
      "   [0.00040761 0.00040761 0.00040761]\n",
      "   ...\n",
      "   [0.00040761 0.00040761 0.00040761]\n",
      "   [0.00040761 0.00040761 0.00040761]\n",
      "   [0.00040761 0.00040761 0.00040761]]\n",
      "\n",
      "  [[0.00040761 0.00040761 0.00040761]\n",
      "   [0.00040761 0.00040761 0.00040761]\n",
      "   [0.00040761 0.00040761 0.00040761]\n",
      "   ...\n",
      "   [0.00040761 0.00040761 0.00040761]\n",
      "   [0.00040761 0.00040761 0.00040761]\n",
      "   [0.00040761 0.00040761 0.00040761]]\n",
      "\n",
      "  [[0.00040761 0.00040761 0.00040761]\n",
      "   [0.00040761 0.00040761 0.00040761]\n",
      "   [0.00040761 0.00040761 0.00040761]\n",
      "   ...\n",
      "   [0.00040761 0.00040761 0.00040761]\n",
      "   [0.00040761 0.00040761 0.00040761]\n",
      "   [0.00040761 0.00040761 0.00040761]]\n",
      "\n",
      "  ...\n",
      "\n",
      "  [[0.00040761 0.00040761 0.00040761]\n",
      "   [0.00040761 0.00040761 0.00040761]\n",
      "   [0.00040761 0.00040761 0.00040761]\n",
      "   ...\n",
      "   [0.00040761 0.00040761 0.00040761]\n",
      "   [0.00040761 0.00040761 0.00040761]\n",
      "   [0.00040761 0.00040761 0.00040761]]\n",
      "\n",
      "  [[0.00040761 0.00040761 0.00040761]\n",
      "   [0.00040761 0.00040761 0.00040761]\n",
      "   [0.00040761 0.00040761 0.00040761]\n",
      "   ...\n",
      "   [0.00040761 0.00040761 0.00040761]\n",
      "   [0.00040761 0.00040761 0.00040761]\n",
      "   [0.00040761 0.00040761 0.00040761]]\n",
      "\n",
      "  [[0.00040761 0.00040761 0.00040761]\n",
      "   [0.00040761 0.00040761 0.00040761]\n",
      "   [0.00040761 0.00040761 0.00040761]\n",
      "   ...\n",
      "   [0.00040761 0.00040761 0.00040761]\n",
      "   [0.00040761 0.00040761 0.00040761]\n",
      "   [0.00040761 0.00040761 0.00040761]]]\n",
      "\n",
      "\n",
      " [[[0.00037517 0.00037517 0.00037517]\n",
      "   [0.00037517 0.00037517 0.00037517]\n",
      "   [0.00037517 0.00037517 0.00037517]\n",
      "   ...\n",
      "   [0.00037517 0.00037517 0.00037517]\n",
      "   [0.00037517 0.00037517 0.00037517]\n",
      "   [0.00037517 0.00037517 0.00037517]]\n",
      "\n",
      "  [[0.00037517 0.00037517 0.00037517]\n",
      "   [0.00037517 0.00037517 0.00037517]\n",
      "   [0.00037517 0.00037517 0.00037517]\n",
      "   ...\n",
      "   [0.00037517 0.00037517 0.00037517]\n",
      "   [0.00037517 0.00037517 0.00037517]\n",
      "   [0.00037517 0.00037517 0.00037517]]\n",
      "\n",
      "  [[0.00037517 0.00037517 0.00037517]\n",
      "   [0.00037517 0.00037517 0.00037517]\n",
      "   [0.00037517 0.00037517 0.00037517]\n",
      "   ...\n",
      "   [0.00037517 0.00037517 0.00037517]\n",
      "   [0.00037517 0.00037517 0.00037517]\n",
      "   [0.00037517 0.00037517 0.00037517]]\n",
      "\n",
      "  ...\n",
      "\n",
      "  [[0.00037517 0.00037517 0.00037517]\n",
      "   [0.00037517 0.00037517 0.00037517]\n",
      "   [0.00037517 0.00037517 0.00037517]\n",
      "   ...\n",
      "   [0.00037517 0.00037517 0.00037517]\n",
      "   [0.00037517 0.00037517 0.00037517]\n",
      "   [0.00037517 0.00037517 0.00037517]]\n",
      "\n",
      "  [[0.00037517 0.00037517 0.00037517]\n",
      "   [0.00037517 0.00037517 0.00037517]\n",
      "   [0.00037517 0.00037517 0.00037517]\n",
      "   ...\n",
      "   [0.00037517 0.00037517 0.00037517]\n",
      "   [0.00037517 0.00037517 0.00037517]\n",
      "   [0.00037517 0.00037517 0.00037517]]\n",
      "\n",
      "  [[0.00037517 0.00037517 0.00037517]\n",
      "   [0.00037517 0.00037517 0.00037517]\n",
      "   [0.00037517 0.00037517 0.00037517]\n",
      "   ...\n",
      "   [0.00037517 0.00037517 0.00037517]\n",
      "   [0.00037517 0.00037517 0.00037517]\n",
      "   [0.00037517 0.00037517 0.00037517]]]\n",
      "\n",
      "\n",
      " ...\n",
      "\n",
      "\n",
      " [[[0.00031641 0.00031641 0.00031641]\n",
      "   [0.00031641 0.00031641 0.00031641]\n",
      "   [0.00031641 0.00031641 0.00031641]\n",
      "   ...\n",
      "   [0.00031641 0.00031641 0.00031641]\n",
      "   [0.00031641 0.00031641 0.00031641]\n",
      "   [0.00031641 0.00031641 0.00031641]]\n",
      "\n",
      "  [[0.00031641 0.00031641 0.00031641]\n",
      "   [0.00031641 0.00031641 0.00031641]\n",
      "   [0.00031641 0.00031641 0.00031641]\n",
      "   ...\n",
      "   [0.00031641 0.00031641 0.00031641]\n",
      "   [0.00031641 0.00031641 0.00031641]\n",
      "   [0.00031641 0.00031641 0.00031641]]\n",
      "\n",
      "  [[0.00031641 0.00031641 0.00031641]\n",
      "   [0.00031641 0.00031641 0.00031641]\n",
      "   [0.00031641 0.00031641 0.00031641]\n",
      "   ...\n",
      "   [0.00031641 0.00031641 0.00031641]\n",
      "   [0.00031641 0.00031641 0.00031641]\n",
      "   [0.00031641 0.00031641 0.00031641]]\n",
      "\n",
      "  ...\n",
      "\n",
      "  [[0.00031641 0.00031641 0.00031641]\n",
      "   [0.00031641 0.00031641 0.00031641]\n",
      "   [0.00031641 0.00031641 0.00031641]\n",
      "   ...\n",
      "   [0.00031641 0.00031641 0.00031641]\n",
      "   [0.00031641 0.00031641 0.00031641]\n",
      "   [0.00031641 0.00031641 0.00031641]]\n",
      "\n",
      "  [[0.00031641 0.00031641 0.00031641]\n",
      "   [0.00031641 0.00031641 0.00031641]\n",
      "   [0.00031641 0.00031641 0.00031641]\n",
      "   ...\n",
      "   [0.00031641 0.00031641 0.00031641]\n",
      "   [0.00031641 0.00031641 0.00031641]\n",
      "   [0.00031641 0.00031641 0.00031641]]\n",
      "\n",
      "  [[0.00031641 0.00031641 0.00031641]\n",
      "   [0.00031641 0.00031641 0.00031641]\n",
      "   [0.00031641 0.00031641 0.00031641]\n",
      "   ...\n",
      "   [0.00031641 0.00031641 0.00031641]\n",
      "   [0.00031641 0.00031641 0.00031641]\n",
      "   [0.00031641 0.00031641 0.00031641]]]\n",
      "\n",
      "\n",
      " [[[0.00030824 0.00030824 0.00030824]\n",
      "   [0.00030824 0.00030824 0.00030824]\n",
      "   [0.00030824 0.00030824 0.00030824]\n",
      "   ...\n",
      "   [0.00030824 0.00030824 0.00030824]\n",
      "   [0.00030824 0.00030824 0.00030824]\n",
      "   [0.00030824 0.00030824 0.00030824]]\n",
      "\n",
      "  [[0.00030824 0.00030824 0.00030824]\n",
      "   [0.00030824 0.00030824 0.00030824]\n",
      "   [0.00030824 0.00030824 0.00030824]\n",
      "   ...\n",
      "   [0.00030824 0.00030824 0.00030824]\n",
      "   [0.00030824 0.00030824 0.00030824]\n",
      "   [0.00030824 0.00030824 0.00030824]]\n",
      "\n",
      "  [[0.00030824 0.00030824 0.00030824]\n",
      "   [0.00030824 0.00030824 0.00030824]\n",
      "   [0.00030824 0.00030824 0.00030824]\n",
      "   ...\n",
      "   [0.00030824 0.00030824 0.00030824]\n",
      "   [0.00030824 0.00030824 0.00030824]\n",
      "   [0.00030824 0.00030824 0.00030824]]\n",
      "\n",
      "  ...\n",
      "\n",
      "  [[0.00030824 0.00030824 0.00030824]\n",
      "   [0.00030824 0.00030824 0.00030824]\n",
      "   [0.00030824 0.00030824 0.00030824]\n",
      "   ...\n",
      "   [0.00030824 0.00030824 0.00030824]\n",
      "   [0.00030824 0.00030824 0.00030824]\n",
      "   [0.00030824 0.00030824 0.00030824]]\n",
      "\n",
      "  [[0.00030824 0.00030824 0.00030824]\n",
      "   [0.00030824 0.00030824 0.00030824]\n",
      "   [0.00030824 0.00030824 0.00030824]\n",
      "   ...\n",
      "   [0.00030824 0.00030824 0.00030824]\n",
      "   [0.00030824 0.00030824 0.00030824]\n",
      "   [0.00030824 0.00030824 0.00030824]]\n",
      "\n",
      "  [[0.00030824 0.00030824 0.00030824]\n",
      "   [0.00030824 0.00030824 0.00030824]\n",
      "   [0.00030824 0.00030824 0.00030824]\n",
      "   ...\n",
      "   [0.00030824 0.00030824 0.00030824]\n",
      "   [0.00030824 0.00030824 0.00030824]\n",
      "   [0.00030824 0.00030824 0.00030824]]]\n",
      "\n",
      "\n",
      " [[[0.00025918 0.00025918 0.00025918]\n",
      "   [0.00025918 0.00025918 0.00025918]\n",
      "   [0.00025918 0.00025918 0.00025918]\n",
      "   ...\n",
      "   [0.00025918 0.00025918 0.00025918]\n",
      "   [0.00025918 0.00025918 0.00025918]\n",
      "   [0.00025918 0.00025918 0.00025918]]\n",
      "\n",
      "  [[0.00025918 0.00025918 0.00025918]\n",
      "   [0.00025918 0.00025918 0.00025918]\n",
      "   [0.00025918 0.00025918 0.00025918]\n",
      "   ...\n",
      "   [0.00025918 0.00025918 0.00025918]\n",
      "   [0.00025918 0.00025918 0.00025918]\n",
      "   [0.00025918 0.00025918 0.00025918]]\n",
      "\n",
      "  [[0.00025918 0.00025918 0.00025918]\n",
      "   [0.00025918 0.00025918 0.00025918]\n",
      "   [0.00025918 0.00025918 0.00025918]\n",
      "   ...\n",
      "   [0.00025918 0.00025918 0.00025918]\n",
      "   [0.00025918 0.00025918 0.00025918]\n",
      "   [0.00025918 0.00025918 0.00025918]]\n",
      "\n",
      "  ...\n",
      "\n",
      "  [[0.00025918 0.00025918 0.00025918]\n",
      "   [0.00025918 0.00025918 0.00025918]\n",
      "   [0.00025918 0.00025918 0.00025918]\n",
      "   ...\n",
      "   [0.00025918 0.00025918 0.00025918]\n",
      "   [0.00025918 0.00025918 0.00025918]\n",
      "   [0.00025918 0.00025918 0.00025918]]\n",
      "\n",
      "  [[0.00025918 0.00025918 0.00025918]\n",
      "   [0.00025918 0.00025918 0.00025918]\n",
      "   [0.00025918 0.00025918 0.00025918]\n",
      "   ...\n",
      "   [0.00025918 0.00025918 0.00025918]\n",
      "   [0.00025918 0.00025918 0.00025918]\n",
      "   [0.00025918 0.00025918 0.00025918]]\n",
      "\n",
      "  [[0.00025918 0.00025918 0.00025918]\n",
      "   [0.00025918 0.00025918 0.00025918]\n",
      "   [0.00025918 0.00025918 0.00025918]\n",
      "   ...\n",
      "   [0.00025918 0.00025918 0.00025918]\n",
      "   [0.00025918 0.00025918 0.00025918]\n",
      "   [0.00025918 0.00025918 0.00025918]]]]\n"
     ]
    }
   ],
   "source": [
    "patchesIdx = patches.shape\n",
    "print(\"check00\")\n",
    "patches_hat = autoencoder.predict(patches.reshape((-1,) + patch_size))\n",
    "print(\"check01\")\n",
    "mseFeat = (encoder.predict(patches.reshape((-1,) + patch_size)) - encoder.predict(patches_hat))**2\n",
    "del patches\n",
    "uv10001=patches_hat.shape\n",
    "del patches_hat\n",
    "print(\"check 1\")\n",
    "mseFeat_patches = np.zeros(uv10001) + np.mean(mseFeat, axis=(1,2,3)).reshape((-1,1,1,1))\n",
    "\n",
    "del mseFeat\n",
    "mseFeat_vol = pe.reconstruct(mseFeat_patches.reshape(patchesIdx))\n",
    "print(mseFeat_patches)\n",
    "del mseFeat_patches"
   ]
  },
  {
   "cell_type": "markdown",
   "metadata": {},
   "source": [
    "### Evaluation"
   ]
  },
  {
   "cell_type": "code",
   "execution_count": 17,
   "metadata": {},
   "outputs": [
    {
     "name": "stdout",
     "output_type": "stream",
     "text": [
      "best AUC = 0.00\n"
     ]
    }
   ],
   "source": [
    "mse_mask_max = np.max(mseFeat_vol, axis=(0, 1))\n",
    "fpr_max, tpr_max, thresholds_max = roc_curve(gt, mse_mask_max)\n",
    "roc_auc_max = roc_auc_score(gt, mse_mask_max)\n",
    "print('best AUC = %0.2f' % roc_auc_max)"
   ]
  },
  {
   "cell_type": "code",
   "execution_count": 22,
   "metadata": {},
   "outputs": [],
   "source": [
    "train_path = in_path\n",
    "dataset = np.load('./datasets/' + str(in_path),allow_pickle=True).item()\n",
    "\n",
    "# preprocessing\n",
    "data = dataset['data']"
   ]
  },
  {
   "cell_type": "code",
   "execution_count": 24,
   "metadata": {},
   "outputs": [
    {
     "data": {
      "text/plain": [
       "(66, 170, 440)"
      ]
     },
     "execution_count": 24,
     "metadata": {},
     "output_type": "execute_result"
    }
   ],
   "source": [
    "data.shape"
   ]
  },
  {
   "cell_type": "code",
   "execution_count": 25,
   "metadata": {},
   "outputs": [
    {
     "data": {
      "text/plain": [
       "array([ 0,  1,  2,  3,  4,  5,  6,  7,  8,  9, 10, 11, 12, 13, 14, 15, 16,\n",
       "       17, 18, 19, 20, 21, 22, 23, 24, 25, 26, 27, 28, 29, 30, 31, 32, 33,\n",
       "       34, 35, 36, 37, 38, 39, 40, 41, 42, 43, 44, 45, 46, 47, 48, 49, 50,\n",
       "       51, 52, 53, 54, 55, 56, 57, 58, 59, 60, 61, 62, 63, 64, 65])"
      ]
     },
     "execution_count": 25,
     "metadata": {},
     "output_type": "execute_result"
    }
   ],
   "source": [
    "np.arange(data.shape[0])"
   ]
  },
  {
   "cell_type": "code",
   "execution_count": 28,
   "metadata": {},
   "outputs": [
    {
     "name": "stdout",
     "output_type": "stream",
     "text": [
      "[0.00051133 0.00049488 0.0004966  0.00050032 0.00048536 0.00047857\n",
      " 0.0004706 ]\n"
     ]
    }
   ],
   "source": [
    "print(mse_mask_max)"
   ]
  },
  {
   "cell_type": "code",
   "execution_count": 30,
   "metadata": {},
   "outputs": [
    {
     "data": {
      "text/plain": [
       "array([[[0.00043441, 0.00042101, 0.00040573, ..., 0.00038516,\n",
       "         0.00039015, 0.0003808 ],\n",
       "        [0.00043441, 0.00042101, 0.00040573, ..., 0.00038516,\n",
       "         0.00039015, 0.0003808 ],\n",
       "        [0.00043441, 0.00042101, 0.00040573, ..., 0.00038516,\n",
       "         0.00039015, 0.0003808 ],\n",
       "        ...,\n",
       "        [0.00034817, 0.00038492, 0.00039232, ..., 0.00039415,\n",
       "         0.00038767, 0.00037558],\n",
       "        [0.00034817, 0.00038492, 0.00039232, ..., 0.00039415,\n",
       "         0.00038767, 0.00037558],\n",
       "        [0.00034817, 0.00038492, 0.00039232, ..., 0.00039415,\n",
       "         0.00038767, 0.00037558]],\n",
       "\n",
       "       [[0.00043441, 0.00042101, 0.00040573, ..., 0.00038516,\n",
       "         0.00039015, 0.0003808 ],\n",
       "        [0.00043441, 0.00042101, 0.00040573, ..., 0.00038516,\n",
       "         0.00039015, 0.0003808 ],\n",
       "        [0.00043441, 0.00042101, 0.00040573, ..., 0.00038516,\n",
       "         0.00039015, 0.0003808 ],\n",
       "        ...,\n",
       "        [0.00034817, 0.00038492, 0.00039232, ..., 0.00039415,\n",
       "         0.00038767, 0.00037558],\n",
       "        [0.00034817, 0.00038492, 0.00039232, ..., 0.00039415,\n",
       "         0.00038767, 0.00037558],\n",
       "        [0.00034817, 0.00038492, 0.00039232, ..., 0.00039415,\n",
       "         0.00038767, 0.00037558]],\n",
       "\n",
       "       [[0.00043441, 0.00042101, 0.00040573, ..., 0.00038516,\n",
       "         0.00039015, 0.0003808 ],\n",
       "        [0.00043441, 0.00042101, 0.00040573, ..., 0.00038516,\n",
       "         0.00039015, 0.0003808 ],\n",
       "        [0.00043441, 0.00042101, 0.00040573, ..., 0.00038516,\n",
       "         0.00039015, 0.0003808 ],\n",
       "        ...,\n",
       "        [0.00034817, 0.00038492, 0.00039232, ..., 0.00039415,\n",
       "         0.00038767, 0.00037558],\n",
       "        [0.00034817, 0.00038492, 0.00039232, ..., 0.00039415,\n",
       "         0.00038767, 0.00037558],\n",
       "        [0.00034817, 0.00038492, 0.00039232, ..., 0.00039415,\n",
       "         0.00038767, 0.00037558]],\n",
       "\n",
       "       ...,\n",
       "\n",
       "       [[0.00019329, 0.00017524, 0.0001481 , ..., 0.0001054 ,\n",
       "         0.00011119, 0.00013313],\n",
       "        [0.00019329, 0.00017524, 0.0001481 , ..., 0.0001054 ,\n",
       "         0.00011119, 0.00013313],\n",
       "        [0.00019329, 0.00017524, 0.0001481 , ..., 0.0001054 ,\n",
       "         0.00011119, 0.00013313],\n",
       "        ...,\n",
       "        [0.00016366, 0.00023761, 0.00026388, ..., 0.00029461,\n",
       "         0.00028371, 0.00025918],\n",
       "        [0.00016366, 0.00023761, 0.00026388, ..., 0.00029461,\n",
       "         0.00028371, 0.00025918],\n",
       "        [0.00016366, 0.00023761, 0.00026388, ..., 0.00029461,\n",
       "         0.00028371, 0.00025918]],\n",
       "\n",
       "       [[0.00019329, 0.00017524, 0.0001481 , ..., 0.0001054 ,\n",
       "         0.00011119, 0.00013313],\n",
       "        [0.00019329, 0.00017524, 0.0001481 , ..., 0.0001054 ,\n",
       "         0.00011119, 0.00013313],\n",
       "        [0.00019329, 0.00017524, 0.0001481 , ..., 0.0001054 ,\n",
       "         0.00011119, 0.00013313],\n",
       "        ...,\n",
       "        [0.00016366, 0.00023761, 0.00026388, ..., 0.00029461,\n",
       "         0.00028371, 0.00025918],\n",
       "        [0.00016366, 0.00023761, 0.00026388, ..., 0.00029461,\n",
       "         0.00028371, 0.00025918],\n",
       "        [0.00016366, 0.00023761, 0.00026388, ..., 0.00029461,\n",
       "         0.00028371, 0.00025918]],\n",
       "\n",
       "       [[0.00019329, 0.00017524, 0.0001481 , ..., 0.0001054 ,\n",
       "         0.00011119, 0.00013313],\n",
       "        [0.00019329, 0.00017524, 0.0001481 , ..., 0.0001054 ,\n",
       "         0.00011119, 0.00013313],\n",
       "        [0.00019329, 0.00017524, 0.0001481 , ..., 0.0001054 ,\n",
       "         0.00011119, 0.00013313],\n",
       "        ...,\n",
       "        [0.00016366, 0.00023761, 0.00026388, ..., 0.00029461,\n",
       "         0.00028371, 0.00025918],\n",
       "        [0.00016366, 0.00023761, 0.00026388, ..., 0.00029461,\n",
       "         0.00028371, 0.00025918],\n",
       "        [0.00016366, 0.00023761, 0.00026388, ..., 0.00029461,\n",
       "         0.00028371, 0.00025918]]])"
      ]
     },
     "execution_count": 30,
     "metadata": {},
     "output_type": "execute_result"
    }
   ],
   "source": [
    "mseFeat_vol"
   ]
  },
  {
   "cell_type": "code",
   "execution_count": null,
   "metadata": {},
   "outputs": [],
   "source": []
  }
 ],
 "metadata": {
  "kernelspec": {
   "display_name": "Python 3",
   "language": "python",
   "name": "python3"
  },
  "language_info": {
   "codemirror_mode": {
    "name": "ipython",
    "version": 3
   },
   "file_extension": ".py",
   "mimetype": "text/x-python",
   "name": "python",
   "nbconvert_exporter": "python",
   "pygments_lexer": "ipython3",
   "version": "3.8.3"
  }
 },
 "nbformat": 4,
 "nbformat_minor": 2
}
